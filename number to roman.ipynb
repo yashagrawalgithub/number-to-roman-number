{
 "cells": [
  {
   "cell_type": "code",
   "execution_count": 50,
   "metadata": {},
   "outputs": [
    {
     "name": "stdout",
     "output_type": "stream",
     "text": [
      "985\n",
      "CMLXXXV"
     ]
    }
   ],
   "source": [
    "d1={0:'',1:'I',2:'II',3:'III',4:'IV',5:'V',6:'VI',7:'VII',8:'VIII',9:'IX'}\n",
    "d2={0:'',1:'X',2:'XX',3:'XXX',4:'XL',5:'L',6:'LX',7:'LXX',8:'LXXX',9:'XC'}\n",
    "d3={0:'',1:'C',2:'CC',3:'CCC',4:'CD',5:'D',6:'DC',7:'DCC',8:'DCCC',9:'CM'}\n",
    "d4={0:'',1:'M'}\n",
    "class taker:\n",
    "    def __init__(self,value):\n",
    "        self.value=value\n",
    "\n",
    "class sender(taker):\n",
    "    def __init__(self,value):\n",
    "        self.value=value\n",
    "        self.fourth(value)\n",
    "    def fourth(self,value):\n",
    "        a=(value//1000)\n",
    "        print(d4[a],end='')\n",
    "        self.third(value%1000)\n",
    "    def third(self,value):\n",
    "        a=(value//100)\n",
    "        print(d3[a],end='')\n",
    "        self.second(value%100)\n",
    "    def second(self,value):\n",
    "        a=(value//10)\n",
    "        print(d2[a],end='')\n",
    "        self.first(value%10)\n",
    "    def first(self,value):\n",
    "        print(d1[value],end='')\n",
    "    \n",
    "b=int(input())\n",
    "m=sender(b)"
   ]
  },
  {
   "cell_type": "code",
   "execution_count": null,
   "metadata": {},
   "outputs": [],
   "source": []
  }
 ],
 "metadata": {
  "kernelspec": {
   "display_name": "Python 3",
   "language": "python",
   "name": "python3"
  },
  "language_info": {
   "codemirror_mode": {
    "name": "ipython",
    "version": 3
   },
   "file_extension": ".py",
   "mimetype": "text/x-python",
   "name": "python",
   "nbconvert_exporter": "python",
   "pygments_lexer": "ipython3",
   "version": "3.7.6"
  }
 },
 "nbformat": 4,
 "nbformat_minor": 4
}
